{
  "nbformat": 4,
  "nbformat_minor": 0,
  "metadata": {
    "colab": {
      "provenance": [],
      "machine_shape": "hm",
      "gpuType": "T4"
    },
    "kernelspec": {
      "name": "python3",
      "display_name": "Python 3"
    },
    "language_info": {
      "name": "python"
    },
    "accelerator": "GPU"
  },
  "cells": [
    {
      "cell_type": "code",
      "execution_count": null,
      "metadata": {
        "id": "XeOgRJbxcbPg"
      },
      "outputs": [],
      "source": [
        "import os\n",
        "import numpy as np\n",
        "import matplotlib.pyplot as plt\n",
        "import tensorflow as tf\n",
        "from tensorflow.keras import datasets, layers, models\n",
        "from tensorflow.keras.models import Model, load_model, Sequential\n",
        "from tensorflow.keras.optimizers import Adam\n",
        "from tensorflow.keras.layers import Input, Dense, Activation\n",
        "from tensorflow.keras.callbacks import ModelCheckpoint, TensorBoard\n",
        "from tensorflow.keras import regularizers\n",
        "from tensorflow.keras.preprocessing import image_dataset_from_directory\n",
        "from tensorflow.keras.preprocessing.image import load_img, img_to_array\n",
        "from sklearn.preprocessing import LabelEncoder\n",
        "from sklearn.model_selection import train_test_split\n",
        "from sklearn.preprocessing import StandardScaler\n",
        "import c_writer\n",
        "from os.path import join\n",
        "import seaborn as sns\n",
        "from sklearn.metrics import classification_report, confusion_matrix"
      ]
    },
    {
      "cell_type": "markdown",
      "source": [
        "### Load Shapley heat map images and run some preprocessing\n",
        "#### greyscale, normalize, and flatten features"
      ],
      "metadata": {
        "id": "NkhhjIRztVyB"
      }
    },
    {
      "cell_type": "code",
      "source": [
        "img_height = 28\n",
        "img_width = 28\n",
        "data_dir = 'dataset'\n",
        "batch_size = 32\n",
        "\n",
        "images = []\n",
        "labels = []\n",
        "\n",
        "# Load images and labels\n",
        "for class_name in os.listdir(data_dir):\n",
        "    class_dir = os.path.join(data_dir, class_name)\n",
        "    if os.path.isdir(class_dir):\n",
        "        class_label = 0 if class_name == 'normal' else 1\n",
        "        for img_name in os.listdir(class_dir):\n",
        "            img_path = os.path.join(class_dir, img_name)\n",
        "            img = load_img(img_path, target_size=(img_height, img_width), color_mode='grayscale')\n",
        "            img_array = img_to_array(img)\n",
        "            images.append(img_array)\n",
        "            labels.append(class_label)\n",
        "\n",
        "\n",
        "images = np.array(images)\n",
        "labels = np.array(labels)\n",
        "\n",
        "# Flatten and normalize the images\n",
        "images = images.reshape((images.shape[0], -1))\n",
        "# images = images / 255.0\n",
        "\n",
        "# Split the data into training and test sets\n",
        "x_train, x_test, y_train, y_test = train_test_split(images, labels, test_size=0.2, random_state=123)\n",
        "\n",
        "x_test_copy = x_test.copy()\n",
        "y_test_copy = y_test.copy()"
      ],
      "metadata": {
        "id": "EEVM8YuIiH14"
      },
      "execution_count": null,
      "outputs": []
    },
    {
      "cell_type": "code",
      "source": [
        "x_train = x_train.astype(np.float64)\n",
        "x_test = x_test.astype(np.float64)"
      ],
      "metadata": {
        "id": "la4l1-YCCuuB"
      },
      "execution_count": null,
      "outputs": []
    },
    {
      "cell_type": "code",
      "source": [
        "type(x_train[0][0])"
      ],
      "metadata": {
        "colab": {
          "base_uri": "https://localhost:8080/"
        },
        "id": "_vG5vrXOCQiB",
        "outputId": "03396fec-d735-44b1-e371-77e956e15382"
      },
      "execution_count": null,
      "outputs": [
        {
          "output_type": "execute_result",
          "data": {
            "text/plain": [
              "numpy.float64"
            ]
          },
          "metadata": {},
          "execution_count": 5
        }
      ]
    },
    {
      "cell_type": "code",
      "source": [
        "type(x_test[0][0])"
      ],
      "metadata": {
        "colab": {
          "base_uri": "https://localhost:8080/"
        },
        "id": "gznUgUvPC2Vb",
        "outputId": "5065e9a6-f01b-4f3b-d233-f98262dc1b60"
      },
      "execution_count": null,
      "outputs": [
        {
          "output_type": "execute_result",
          "data": {
            "text/plain": [
              "numpy.float64"
            ]
          },
          "metadata": {},
          "execution_count": 6
        }
      ]
    },
    {
      "cell_type": "code",
      "source": [
        "x_train.shape"
      ],
      "metadata": {
        "colab": {
          "base_uri": "https://localhost:8080/"
        },
        "id": "klAp0WxblBWm",
        "outputId": "fa0b9828-870f-4260-903e-1d4519b17a0b"
      },
      "execution_count": null,
      "outputs": [
        {
          "output_type": "execute_result",
          "data": {
            "text/plain": [
              "(160, 784)"
            ]
          },
          "metadata": {},
          "execution_count": 7
        }
      ]
    },
    {
      "cell_type": "code",
      "source": [
        "x_test.shape"
      ],
      "metadata": {
        "colab": {
          "base_uri": "https://localhost:8080/"
        },
        "id": "CBbngzoypoah",
        "outputId": "b0ccef95-1ce8-428c-bdd2-ad7025304da6"
      },
      "execution_count": null,
      "outputs": [
        {
          "output_type": "execute_result",
          "data": {
            "text/plain": [
              "(40, 784)"
            ]
          },
          "metadata": {},
          "execution_count": 8
        }
      ]
    },
    {
      "cell_type": "code",
      "source": [
        "y_train.shape"
      ],
      "metadata": {
        "colab": {
          "base_uri": "https://localhost:8080/"
        },
        "id": "ta9O3XEhlBYu",
        "outputId": "1a9a1584-c8b9-49ed-8253-60e73c13e87b"
      },
      "execution_count": null,
      "outputs": [
        {
          "output_type": "execute_result",
          "data": {
            "text/plain": [
              "(160,)"
            ]
          },
          "metadata": {},
          "execution_count": 9
        }
      ]
    },
    {
      "cell_type": "code",
      "source": [
        "y_test[0:10]"
      ],
      "metadata": {
        "colab": {
          "base_uri": "https://localhost:8080/"
        },
        "id": "2Mk5kOdYlBa0",
        "outputId": "746af5e5-ed8d-46aa-e14d-b22f35384c96"
      },
      "execution_count": null,
      "outputs": [
        {
          "output_type": "execute_result",
          "data": {
            "text/plain": [
              "array([0, 1, 0, 1, 0, 1, 1, 0, 1, 1])"
            ]
          },
          "metadata": {},
          "execution_count": 10
        }
      ]
    },
    {
      "cell_type": "code",
      "source": [
        "x_train[0]"
      ],
      "metadata": {
        "colab": {
          "base_uri": "https://localhost:8080/"
        },
        "id": "l27s9B7d_8P8",
        "outputId": "89d45d5f-3c09-4655-f5ed-fef91c2b5276"
      },
      "execution_count": null,
      "outputs": [
        {
          "output_type": "execute_result",
          "data": {
            "text/plain": [
              "array([ 83.,  82.,  82.,  82.,  82.,  82.,  82.,  82.,  80.,  87.,  79.,\n",
              "        79.,  84.,  80.,  83.,  81.,  83.,  82.,  82.,  81.,  83.,  83.,\n",
              "        81.,  82.,  83.,  82.,  82.,  82.,  81.,  82.,  82.,  82.,  82.,\n",
              "        82.,  82.,  82.,  82.,  80.,  82.,  86.,  80.,  80.,  83.,  83.,\n",
              "        83.,  82.,  82.,  81.,  83.,  83.,  81.,  84.,  82.,  82.,  82.,\n",
              "        82.,  82.,  82.,  82.,  82.,  83.,  82.,  82.,  82.,  81.,  82.,\n",
              "        81.,  81.,  81.,  85.,  81.,  83.,  82.,  83.,  84.,  85.,  85.,\n",
              "        82.,  79.,  81.,  82.,  82.,  82.,  82.,  82.,  82.,  82.,  82.,\n",
              "        82.,  82.,  81.,  81.,  84.,  84.,  83.,  86.,  88.,  84.,  81.,\n",
              "        88.,  92.,  92.,  88.,  85.,  84.,  83.,  83.,  83.,  82.,  82.,\n",
              "        82.,  82.,  82.,  82.,  81.,  81.,  81.,  81.,  82.,  82.,  81.,\n",
              "        86.,  89.,  85.,  77.,  78.,  91.,  84.,  90.,  93.,  88.,  84.,\n",
              "        83.,  83.,  84.,  80.,  82.,  82.,  82.,  82.,  82.,  82.,  81.,\n",
              "        81.,  82.,  83.,  84.,  85.,  86.,  98., 103., 107., 103.,  97.,\n",
              "        90.,  66.,  88.,  91.,  85.,  82.,  81.,  81.,  83.,  80.,  83.,\n",
              "        83.,  82.,  82.,  82.,  82.,  82.,  82.,  83.,  84.,  85.,  86.,\n",
              "        98., 101., 108., 135., 135., 121., 105., 105., 101., 101.,  91.,\n",
              "        88.,  85.,  82.,  89.,  92.,  85.,  84.,  82.,  81.,  81.,  81.,\n",
              "        82.,  82.,  83.,  83.,  84.,  85.,  88., 106., 134., 160., 131.,\n",
              "       117.,  98.,  98., 104., 107., 103., 104.,  99.,  87.,  89.,  90.,\n",
              "        87.,  84.,  82.,  81.,  81.,  81.,  82.,  83.,  83.,  81.,  87.,\n",
              "        81., 100., 126., 145., 182., 135., 113., 109., 128., 129., 134.,\n",
              "       150., 122., 117.,  99.,  85.,  93.,  89.,  84.,  81.,  82.,  82.,\n",
              "        84.,  81.,  81.,  82.,  80.,  72.,  91.,  87., 133., 192., 180.,\n",
              "       141., 112., 108., 133.,  96., 123., 171., 137., 118.,  99.,  86.,\n",
              "        95.,  86.,  83.,  82.,  82.,  81.,  84.,  82.,  80.,  84.,  79.,\n",
              "        78.,  53.,  51., 151., 152., 142., 121.,  93., 159., 160.,  94.,\n",
              "       121., 160., 139., 112.,  93.,  99.,  90.,  84.,  83.,  82.,  83.,\n",
              "        81.,  80.,  84.,  82.,  87.,  86.,  73.,  20., 112., 141., 140.,\n",
              "       139., 117., 140., 221., 213.,  93., 120., 151., 126.,  93.,  93.,\n",
              "        94.,  88.,  84.,  82.,  81.,  82.,  84.,  82.,  83.,  83.,  81.,\n",
              "        81.,  17.,  40., 100., 112., 139., 144., 120., 158., 253., 222.,\n",
              "        84., 121., 135.,  99.,  72.,  90.,  93.,  88.,  85.,  83.,  81.,\n",
              "        81.,  81.,  82.,  80.,  85.,  84.,  74.,   0.,  87., 101., 126.,\n",
              "       149., 146., 132., 167., 236., 176.,  92., 122., 104.,  96.,  46.,\n",
              "        93.,  95.,  89.,  85.,  84.,  82.,  82.,  82.,  83.,  82.,  81.,\n",
              "        81.,  59.,  23.,  89., 105., 106., 140., 144., 117., 148., 190.,\n",
              "       150., 114., 112., 119.,  87.,  61.,  87.,  92.,  87.,  81.,  82.,\n",
              "        83.,  83.,  82.,  81.,  85.,  83.,  83.,  72.,  68.,  99., 110.,\n",
              "       107., 129., 130., 108., 112., 141., 117., 130., 133., 119.,  78.,\n",
              "        80.,  93.,  91.,  84.,  74.,  78.,  82.,  83.,  83.,  81.,  82.,\n",
              "        82.,  83.,  97., 107., 100., 114., 115., 101., 103.,  86., 101.,\n",
              "       147., 115., 119., 127., 120.,  84., 101.,  99.,  76.,  66.,  78.,\n",
              "        80.,  82.,  83.,  81.,  85.,  80.,  88.,  79.,  94., 135., 118.,\n",
              "       112., 135., 134., 107.,  90.,  98., 128.,  98., 106., 117., 116.,\n",
              "       111.,  99.,  85.,  70.,  79.,  81.,  81.,  82.,  82.,  81.,  83.,\n",
              "        82.,  80.,  89.,  92., 115., 179., 187., 199., 174., 113.,  49.,\n",
              "       122., 122.,  90., 103., 119., 126., 115.,  89.,  82.,  84.,  84.,\n",
              "        84.,  83.,  82.,  81.,  83.,  82.,  84.,  80.,  85.,  93.,  97.,\n",
              "       115., 123., 114.,  85.,  45.,  67., 120., 100.,  83.,  94., 103.,\n",
              "       124., 127.,  90.,  95.,  89.,  85.,  85.,  83.,  82.,  82.,  81.,\n",
              "        84.,  81.,  83.,  85.,  86.,  97., 105., 114., 102.,  77.,  84.,\n",
              "        90.,  89.,  94.,  91.,  87.,  79., 129., 122., 105.,  97.,  91.,\n",
              "        85.,  83.,  83.,  82.,  82.,  82.,  77.,  85.,  81.,  83.,  91.,\n",
              "        91., 102., 102., 110.,  98., 106., 100.,  90.,  95.,  82.,  83.,\n",
              "        70., 111., 106.,  95., 100.,  87.,  83.,  81.,  82.,  82.,  82.,\n",
              "        85.,  82.,  82.,  83.,  84.,  84.,  86.,  94., 100., 121., 124.,\n",
              "       127., 131., 118.,  96.,  95.,  77.,  58.,  84.,  86.,  96.,  89.,\n",
              "        84.,  81.,  81.,  82.,  82.,  82.,  81.,  82.,  82.,  81.,  81.,\n",
              "        83.,  85.,  82.,  89., 118., 134., 133., 148., 106.,  79.,  88.,\n",
              "        81.,  70.,  72.,  82.,  90.,  86.,  85.,  82.,  82.,  82.,  82.,\n",
              "        82.,  82.,  82.,  82.,  82.,  82.,  82.,  82.,  82.,  86.,  95.,\n",
              "       101., 110., 120., 116., 100.,  90.,  87.,  62.,  61.,  78.,  84.,\n",
              "        82.,  83.,  82.,  82.,  82.,  82.,  82.,  82.,  82.,  82.,  82.,\n",
              "        82.,  82.,  82.,  82.,  84.,  88.,  87.,  89.,  96.,  96.,  88.,\n",
              "        85.,  83.,  69.,  70.,  79.,  80.,  77.,  80.,  81.,  82.,  82.,\n",
              "        82.,  82.,  82.,  82.,  82.,  82.,  82.,  82.,  82.,  82.,  82.,\n",
              "        85.,  83.,  81.,  84.,  84.,  82.,  83.,  84.,  80.,  81.,  83.,\n",
              "        81.,  80.,  82.,  83.,  82.,  82.,  82.,  82.,  82.,  82.,  82.,\n",
              "        82.,  82.,  82.,  82.,  82.,  80.,  83.,  83.,  82.,  83.,  82.,\n",
              "        80.,  81.,  83.,  83.,  82.,  81.,  82.,  82.,  81.,  81.,  82.,\n",
              "        82.,  82.,  82.])"
            ]
          },
          "metadata": {},
          "execution_count": 11
        }
      ]
    },
    {
      "cell_type": "code",
      "source": [
        "# Initialize the StandardScaler\n",
        "scaler = StandardScaler()\n",
        "\n",
        "# Fit and transform the data\n",
        "x_train = scaler.fit_transform(x_train)\n",
        "x_test = scaler.fit_transform(x_test)"
      ],
      "metadata": {
        "id": "wRPkKeN__QTo"
      },
      "execution_count": null,
      "outputs": []
    },
    {
      "cell_type": "code",
      "source": [
        "x_train[0]"
      ],
      "metadata": {
        "colab": {
          "base_uri": "https://localhost:8080/"
        },
        "id": "epL-yT64_iME",
        "outputId": "c1f1cab8-ac16-4de1-d6e7-f72ebb77b2ba"
      },
      "execution_count": null,
      "outputs": [
        {
          "output_type": "execute_result",
          "data": {
            "text/plain": [
              "array([ 7.23664950e-01,  7.00979603e-01,  6.94542151e-01,  7.00725317e-01,\n",
              "        6.97274401e-01,  6.97285719e-01,  7.00338702e-01,  6.99595196e-01,\n",
              "        6.44408836e-01,  8.23778200e-01,  6.25768251e-01,  6.23491039e-01,\n",
              "        7.54316466e-01,  6.46375333e-01,  7.24343607e-01,  6.69071131e-01,\n",
              "        7.25140554e-01,  6.98405351e-01,  6.99761902e-01,  6.74418605e-01,\n",
              "        7.25081562e-01,  7.27884249e-01,  6.73844857e-01,  6.95268121e-01,\n",
              "        7.24718051e-01,  6.97902441e-01,  6.99092387e-01,  6.99840891e-01,\n",
              "        6.79040491e-01,  6.80605633e-01,  7.06884804e-01,  7.00194566e-01,\n",
              "        6.98633979e-01,  6.99997327e-01,  6.99481612e-01,  6.94836200e-01,\n",
              "        7.03650108e-01,  6.46747186e-01,  6.96693749e-01,  7.93659546e-01,\n",
              "        6.41453676e-01,  6.48491273e-01,  7.31769595e-01,  7.22655045e-01,\n",
              "        7.26123235e-01,  6.99427376e-01,  6.96579849e-01,  6.65193245e-01,\n",
              "        7.18782034e-01,  7.25840607e-01,  6.73679631e-01,  7.54318641e-01,\n",
              "        7.01315296e-01,  6.98609219e-01,  6.98640571e-01,  6.97660008e-01,\n",
              "        6.96868982e-01,  7.08843658e-01,  6.93325560e-01,  6.98291278e-01,\n",
              "        7.22335402e-01,  6.97869119e-01,  6.98728242e-01,  6.98618759e-01,\n",
              "        6.75781100e-01,  6.92850988e-01,  6.75057270e-01,  6.74937379e-01,\n",
              "        6.67868659e-01,  7.59324854e-01,  6.58537804e-01,  6.95751867e-01,\n",
              "        5.60302386e-01,  5.95710669e-01,  6.27523259e-01,  7.22030934e-01,\n",
              "        7.68681944e-01,  6.91417875e-01,  6.16253733e-01,  6.72315553e-01,\n",
              "        7.02069678e-01,  6.98397104e-01,  6.98655638e-01,  6.99754127e-01,\n",
              "        7.00575530e-01,  6.94973578e-01,  6.97543102e-01,  6.94072365e-01,\n",
              "        7.07207919e-01,  6.87405140e-01,  6.76502770e-01,  6.74049511e-01,\n",
              "        7.41275877e-01,  7.39981262e-01,  6.94647411e-01,  7.33788777e-01,\n",
              "        7.69170510e-01,  6.70409191e-01,  5.82145686e-01,  6.52323330e-01,\n",
              "        6.24440356e-01,  6.04726972e-01,  5.10735332e-01,  5.98098937e-01,\n",
              "        7.07633564e-01,  7.03344225e-01,  7.24834151e-01,  7.19280355e-01,\n",
              "        6.97302912e-01,  6.97008649e-01,  6.97010139e-01,  6.97015648e-01,\n",
              "        6.96690861e-01,  7.06355265e-01,  6.68800667e-01,  6.76925487e-01,\n",
              "        6.70372116e-01,  6.78709621e-01,  6.94271235e-01,  6.88633774e-01,\n",
              "        6.50978910e-01,  7.11763285e-01,  7.74429198e-01,  6.27916274e-01,\n",
              "        3.99004264e-01,  3.77914610e-01,  6.22089013e-01,  4.31136486e-01,\n",
              "        5.86801724e-01,  7.37854946e-01,  6.65460841e-01,  6.32023632e-01,\n",
              "        6.36537234e-01,  6.51223072e-01,  6.61606990e-01,  6.20956304e-01,\n",
              "        7.01603482e-01,  7.02403502e-01,  7.00178422e-01,  6.92992211e-01,\n",
              "        6.96036984e-01,  6.99728873e-01,  6.77125072e-01,  6.71029026e-01,\n",
              "        7.06534568e-01, -8.01490154e-01, -7.74171040e-01,  6.91333884e-01,\n",
              "        5.99829630e-01,  7.54199862e-01,  8.43426171e-01,  8.06434986e-01,\n",
              "        7.19888428e-01,  5.36018071e-01,  4.04242619e-01, -5.05200242e-02,\n",
              "        4.06601897e-01,  5.70043851e-01,  5.59482924e-01,  5.43206387e-01,\n",
              "        5.15336291e-01,  5.07329199e-01,  5.59143738e-01,  5.19263435e-01,\n",
              "        6.65434433e-01,  7.12330240e-01,  7.02500636e-01,  6.99147637e-01,\n",
              "        7.04947246e-01,  6.87937073e-01,  7.04822948e-01,  7.00543155e-01,\n",
              "        7.30374872e-01, -7.75323120e-01, -7.25037521e-01,  5.69235322e-01,\n",
              "        7.74616333e-01,  7.26500329e-01,  8.17480154e-01,  1.27604584e+00,\n",
              "        1.30285747e+00,  1.00051374e+00,  6.69559809e-01,  6.50511111e-01,\n",
              "        6.65939842e-01,  7.48613190e-01,  5.90224223e-01,  5.77149628e-01,\n",
              "        4.64437541e-01,  3.34545351e-01,  4.15021400e-01,  5.81627883e-01,\n",
              "        6.34825529e-01,  7.23841626e-01,  6.97765350e-01,  6.74555410e-01,\n",
              "        6.71130125e-01,  6.78318227e-01,  6.99726970e-01,  6.65202679e-01,\n",
              "        6.70798303e-01,  6.29938187e-01,  6.04962905e-01,  5.15734182e-01,\n",
              "        4.97330412e-01,  8.00376631e-01,  1.43957613e+00,  1.97288061e+00,\n",
              "        1.36261430e+00,  8.52035486e-01,  2.97726259e-01,  2.45670807e-01,\n",
              "        5.55328911e-01,  8.51194938e-01,  8.66824427e-01,  8.48687311e-01,\n",
              "        5.77858686e-01,  3.61724267e-01,  3.51606746e-01,  4.89907932e-01,\n",
              "        6.61526281e-01,  7.29333518e-01,  7.03995981e-01,  6.74594251e-01,\n",
              "        6.72254893e-01,  6.76304148e-01,  6.97113211e-01,  6.77265376e-01,\n",
              "        6.45918263e-01,  5.57505941e-01,  7.15539222e-01,  5.17041427e-01,\n",
              "        9.52626171e-01,  1.47739139e+00,  1.76725959e+00,  2.30725833e+00,\n",
              "        1.28262627e+00,  7.61510310e-01,  6.40202913e-01,  9.29555026e-01,\n",
              "        9.95875961e-01,  1.28447486e+00,  1.65290828e+00,  1.12113458e+00,\n",
              "        8.69794763e-01,  7.20385044e-01,  4.53950175e-01,  7.83879566e-01,\n",
              "        8.34757002e-01,  7.46582290e-01,  6.70095347e-01,  7.03528084e-01,\n",
              "        7.01615276e-01,  7.35750598e-01,  6.73567536e-01,  6.19984676e-01,\n",
              "        6.39971785e-01,  5.78341866e-01,  3.88157276e-01,  8.12176659e-01,\n",
              "        6.46468834e-01,  1.40062220e+00,  2.24336788e+00,  1.85288907e+00,\n",
              "        1.35157690e+00,  9.50310738e-01,  8.57155430e-01,  1.21231397e+00,\n",
              "        4.78319641e-01,  1.00132514e+00,  1.76679002e+00,  1.18652633e+00,\n",
              "        8.87249983e-01,  7.77521047e-01,  6.80761784e-01,  9.28562528e-01,\n",
              "        7.55181475e-01,  7.05841969e-01,  7.00885235e-01,  6.97366188e-01,\n",
              "        6.74641053e-01,  7.47176928e-01,  6.95715825e-01,  6.27550808e-01,\n",
              "        7.27023596e-01,  5.97860371e-01,  5.36449111e-01, -1.35469201e-01,\n",
              "       -2.61437226e-01,  1.42779541e+00,  1.17736798e+00,  1.04033568e+00,\n",
              "        1.01467574e+00,  6.13010996e-01,  1.74476042e+00,  1.61417229e+00,\n",
              "        5.65600874e-01,  1.10860805e+00,  1.56143500e+00,  1.14678850e+00,\n",
              "        7.69993287e-01,  6.46720470e-01,  9.08528830e-01,  7.40121448e-01,\n",
              "        6.82998755e-01,  7.04451344e-01,  7.00787357e-01,  7.21683042e-01,\n",
              "        6.72409341e-01,  6.52400586e-01,  7.49572363e-01,  6.99166006e-01,\n",
              "        8.11648045e-01,  7.76344684e-01,  4.08815916e-01, -8.57067867e-01,\n",
              "        8.74732490e-01,  1.08764459e+00,  9.96708435e-01,  1.03114822e+00,\n",
              "        9.80989261e-01,  1.60050043e+00,  2.63940678e+00,  2.48465396e+00,\n",
              "        5.72285945e-01,  1.02354447e+00,  1.40563549e+00,  1.05775285e+00,\n",
              "        5.05232223e-01,  6.17767708e-01,  7.81806623e-01,  6.74982837e-01,\n",
              "        7.10336829e-01,  6.90549617e-01,  6.71902598e-01,  6.95293301e-01,\n",
              "        7.46263715e-01,  6.98419636e-01,  7.14374826e-01,  7.19469917e-01,\n",
              "        6.72370124e-01,  6.15075042e-01, -9.37681584e-01, -4.51274279e-01,\n",
              "        5.57891488e-01,  5.04501539e-01,  1.03248937e+00,  1.12442415e+00,\n",
              "        9.00483532e-01,  1.59787992e+00,  2.81085459e+00,  2.46016411e+00,\n",
              "        3.38984278e-01,  9.87198322e-01,  1.18728157e+00,  6.77354086e-01,\n",
              "        1.86250218e-01,  5.46348052e-01,  6.78589208e-01,  6.56404008e-01,\n",
              "        7.26723267e-01,  7.20142381e-01,  6.75915723e-01,  6.71906332e-01,\n",
              "        6.74978067e-01,  7.03705605e-01,  6.46668321e-01,  7.68153713e-01,\n",
              "        7.06891693e-01,  4.14559659e-01, -1.34877959e+00,  3.78467372e-01,\n",
              "        3.98584823e-01,  6.83186257e-01,  1.24102015e+00,  1.16966126e+00,\n",
              "        1.09059392e+00,  1.50488405e+00,  2.37271239e+00,  1.66119563e+00,\n",
              "        4.57716220e-01,  9.77332850e-01,  6.43834601e-01,  7.29803006e-01,\n",
              "       -3.44584154e-01,  6.05461871e-01,  6.72428649e-01,  7.19177362e-01,\n",
              "        7.16124766e-01,  7.45771810e-01,  6.97543123e-01,  6.96660814e-01,\n",
              "        6.98927373e-01,  7.22072491e-01,  7.01250986e-01,  6.74728122e-01,\n",
              "        5.97882637e-01,  3.26490743e-02, -8.45544975e-01,  3.10737702e-01,\n",
              "        3.79080262e-01,  3.10548968e-01,  1.09781490e+00,  1.39464219e+00,\n",
              "        9.22439650e-01,  1.23180156e+00,  1.70361338e+00,  1.20647765e+00,\n",
              "        7.90725102e-01,  7.74323427e-01,  9.97434829e-01,  5.82235789e-01,\n",
              "       -2.51063044e-02,  5.07981770e-01,  7.09939521e-01,  6.96115876e-01,\n",
              "        6.18315400e-01,  7.00143343e-01,  7.28265975e-01,  7.24574667e-01,\n",
              "        6.94910596e-01,  6.73437282e-01,  7.76838181e-01,  7.19804393e-01,\n",
              "        6.61010605e-01,  3.14658051e-01,  7.09630554e-02,  4.50413305e-01,\n",
              "        4.56528956e-01,  3.13993587e-01,  9.13435585e-01,  1.16562246e+00,\n",
              "        7.56512561e-01,  5.75861893e-01,  9.97665861e-01,  7.86072830e-01,\n",
              "        1.13236670e+00,  1.25215626e+00,  1.03015530e+00,  3.12935488e-01,\n",
              "        3.38552788e-01,  6.52943924e-01,  7.09256676e-01,  6.44619220e-01,\n",
              "        4.50365339e-01,  5.87120416e-01,  6.98054267e-01,  7.23672235e-01,\n",
              "        7.25336991e-01,  6.72692028e-01,  6.95923544e-01,  7.01607531e-01,\n",
              "        7.11433509e-01,  9.52807695e-01,  8.80444169e-01,  5.26577620e-01,\n",
              "        6.52915708e-01,  6.18972768e-01,  4.55532307e-01,  5.94737823e-01,\n",
              "        2.14802995e-01,  3.17181143e-01,  1.14297002e+00,  8.70599636e-01,\n",
              "        9.95377496e-01,  1.20750598e+00,  1.08069841e+00,  3.89421949e-01,\n",
              "        7.12825415e-01,  8.22121363e-01,  4.16687239e-01,  2.15136910e-01,\n",
              "        5.32904114e-01,  6.36452285e-01,  6.99083873e-01,  7.24895782e-01,\n",
              "        6.73510725e-01,  7.73192196e-01,  6.41512546e-01,  8.47528702e-01,\n",
              "        6.13776817e-01,  8.99153522e-01,  1.57144222e+00,  1.00611162e+00,\n",
              "        8.55318774e-01,  1.23149919e+00,  1.12955309e+00,  7.01205857e-01,\n",
              "        3.05079555e-01,  3.69976019e-01,  1.16218355e+00,  7.03716087e-01,\n",
              "        8.70783700e-01,  1.17134123e+00,  1.05788752e+00,  8.84760697e-01,\n",
              "        6.62614154e-01,  5.12028152e-01,  2.44424191e-01,  4.79868923e-01,\n",
              "        5.94538207e-01,  6.63708433e-01,  7.00114952e-01,  6.95715138e-01,\n",
              "        6.71904013e-01,  7.26715146e-01,  6.94935020e-01,  6.32856668e-01,\n",
              "        8.36293221e-01,  8.38519301e-01,  1.24209596e+00,  2.20573883e+00,\n",
              "        2.35032037e+00,  2.25026934e+00,  1.69330885e+00,  6.48430147e-01,\n",
              "       -4.63715942e-01,  1.00785527e+00,  1.25749967e+00,  6.43202334e-01,\n",
              "        9.10213498e-01,  1.25924693e+00,  1.09618256e+00,  8.81480421e-01,\n",
              "        4.82591931e-01,  3.83462876e-01,  4.42435294e-01,  4.78450351e-01,\n",
              "        6.24108882e-01,  7.05649652e-01,  6.96332733e-01,  6.74581969e-01,\n",
              "        7.24262406e-01,  6.92141729e-01,  7.50803923e-01,  6.34614976e-01,\n",
              "        7.14600044e-01,  7.89266888e-01,  6.89788120e-01,  8.81204785e-01,\n",
              "        9.59772213e-01,  6.25121381e-01,  1.08151149e-01, -5.72959277e-01,\n",
              "       -1.08616476e-01,  1.17476477e+00,  8.90860060e-01,  4.95001225e-01,\n",
              "        7.14896862e-01,  7.29368712e-01,  9.15873975e-01,  1.15704958e+00,\n",
              "        4.78747713e-01,  6.05261044e-01,  5.55579379e-01,  6.15456069e-01,\n",
              "        7.35082860e-01,  7.10685884e-01,  6.98772068e-01,  6.99808806e-01,\n",
              "        6.71917062e-01,  7.50614957e-01,  6.73499809e-01,  7.08854609e-01,\n",
              "        7.16238176e-01,  5.84301534e-01,  6.07745012e-01,  5.30382286e-01,\n",
              "        6.80979232e-01,  4.20315238e-01,  2.08591124e-02,  2.04912010e-01,\n",
              "        4.71661241e-01,  6.24858060e-01,  8.31467948e-01,  7.24661192e-01,\n",
              "        4.94311752e-01,  2.32546461e-01,  1.15879723e+00,  1.09732472e+00,\n",
              "        7.83059194e-01,  7.17054663e-01,  7.06454600e-01,  6.90974306e-01,\n",
              "        6.94536791e-01,  7.18334290e-01,  6.97696062e-01,  6.97293493e-01,\n",
              "        6.96111657e-01,  5.72882315e-01,  7.77236549e-01,  6.64472929e-01,\n",
              "        6.83804835e-01,  6.66365551e-01,  4.20413217e-01,  4.75366880e-01,\n",
              "        4.63361732e-01,  5.63614644e-01,  4.87770380e-01,  7.63885030e-01,\n",
              "        7.89671140e-01,  6.91088826e-01,  8.55080699e-01,  5.60116319e-01,\n",
              "        4.94653676e-01,  1.63976083e-01,  9.93815500e-01,  9.50616675e-01,\n",
              "        7.13311048e-01,  9.26009044e-01,  6.68517327e-01,  6.09908146e-01,\n",
              "        6.11611495e-01,  6.95411703e-01,  6.98053197e-01,  7.01576208e-01,\n",
              "        7.78859144e-01,  6.96562176e-01,  6.90847651e-01,  7.17567315e-01,\n",
              "        7.28779070e-01,  5.76591519e-01,  4.65258480e-01,  4.85515779e-01,\n",
              "        5.25922301e-01,  8.73154334e-01,  9.77420056e-01,  1.07204671e+00,\n",
              "        1.27889687e+00,  1.14763742e+00,  7.76837621e-01,  8.43277981e-01,\n",
              "        4.23374923e-01,  2.30668693e-03,  5.70805294e-01,  6.26861959e-01,\n",
              "        8.93833812e-01,  7.09984897e-01,  6.02490214e-01,  5.78298358e-01,\n",
              "        6.64412280e-01,  6.96519145e-01,  6.99901720e-01,  6.99031512e-01,\n",
              "        6.69974686e-01,  7.00061923e-01,  7.01262826e-01,  6.69295336e-01,\n",
              "        6.66671970e-01,  6.76099100e-01,  6.46989059e-01,  4.70946109e-01,\n",
              "        6.02091706e-01,  1.09928598e+00,  1.36473204e+00,  1.25597056e+00,\n",
              "        1.56146512e+00,  9.16985374e-01,  4.68013695e-01,  7.88551308e-01,\n",
              "        6.49050417e-01,  3.84481821e-01,  4.15537512e-01,  6.20509958e-01,\n",
              "        8.19980136e-01,  7.08040458e-01,  7.01991424e-01,  6.63984799e-01,\n",
              "        6.97553290e-01,  6.99037020e-01,  7.00198764e-01,  6.97960771e-01,\n",
              "        6.99375399e-01,  6.99282450e-01,  7.00491040e-01,  6.97570874e-01,\n",
              "        6.98923416e-01,  6.88806626e-01,  6.67864793e-01,  6.46910788e-01,\n",
              "        7.10354888e-01,  9.00889467e-01,  9.23478186e-01,  1.04987085e+00,\n",
              "        1.34466700e+00,  1.29006434e+00,  1.06803828e+00,  9.19781878e-01,\n",
              "        8.37538624e-01,  2.10336053e-01,  1.49659943e-01,  5.26508851e-01,\n",
              "        6.58536011e-01,  6.81233007e-01,  7.33938931e-01,  7.09667503e-01,\n",
              "        6.98542367e-01,  6.98542367e-01,  6.98542367e-01,  6.98542367e-01,\n",
              "        6.97822750e-01,  6.96748462e-01,  6.98713809e-01,  6.96881292e-01,\n",
              "        6.98260135e-01,  7.02762020e-01,  6.90635398e-01,  6.81584752e-01,\n",
              "        7.07128425e-01,  7.84739473e-01,  7.74344904e-01,  7.88356120e-01,\n",
              "        9.17387818e-01,  9.45731914e-01,  8.05118285e-01,  7.45263174e-01,\n",
              "        6.78113151e-01,  3.52495606e-01,  3.75182106e-01,  5.81110971e-01,\n",
              "        6.10849455e-01,  5.71691450e-01,  6.54500724e-01,  6.72161986e-01,\n",
              "        6.98542367e-01,  6.98542367e-01,  6.98542367e-01,  6.98542367e-01,\n",
              "        6.98871322e-01,  6.97399470e-01,  6.98100397e-01,  6.98566365e-01,\n",
              "        6.97744022e-01,  6.97890599e-01,  6.98103300e-01,  6.91776470e-01,\n",
              "        6.94817352e-01,  7.49809870e-01,  7.22546270e-01,  6.42974274e-01,\n",
              "        7.03185282e-01,  7.26927196e-01,  6.89851833e-01,  7.22172351e-01,\n",
              "        7.33945288e-01,  6.42003030e-01,  6.67639509e-01,  7.22056286e-01,\n",
              "        6.71904013e-01,  6.48229158e-01,  6.99203004e-01,  7.26665936e-01,\n",
              "        6.98542367e-01,  6.98542367e-01,  6.98542367e-01,  6.98542367e-01,\n",
              "        6.98636361e-01,  7.00470594e-01,  6.97658335e-01,  6.97987194e-01,\n",
              "        7.00225370e-01,  6.97665303e-01,  6.99103881e-01,  7.00328144e-01,\n",
              "        6.47162297e-01,  7.19805105e-01,  7.26653682e-01,  6.99544925e-01,\n",
              "        7.19500610e-01,  6.98401524e-01,  6.49250411e-01,  6.70900046e-01,\n",
              "        7.29189575e-01,  7.27661727e-01,  7.01901287e-01,  6.73370731e-01,\n",
              "        6.98068775e-01,  6.97678975e-01,  6.71350120e-01,  6.75176072e-01,\n",
              "        6.98542367e-01,  6.98542367e-01,  6.98542367e-01,  6.98542367e-01])"
            ]
          },
          "metadata": {},
          "execution_count": 13
        }
      ]
    },
    {
      "cell_type": "markdown",
      "source": [
        "### Trying to minimize the number of features"
      ],
      "metadata": {
        "id": "vl0_4tWzVeNV"
      }
    },
    {
      "cell_type": "code",
      "source": [
        "y_train = y_train.reshape(len(y_train),1)\n",
        "y_test = y_test.reshape(len(y_test),1)"
      ],
      "metadata": {
        "id": "v6KNSgS8c9Xi"
      },
      "execution_count": null,
      "outputs": []
    },
    {
      "cell_type": "code",
      "source": [
        "# Using PCA to reduce the number of dimensions\n",
        "from sklearn.decomposition import PCA\n",
        "from matplotlib.colors import ListedColormap\n",
        "\n",
        "colors = ['red', 'blue']\n",
        "cmap = ListedColormap(colors)\n",
        "\n",
        "pca = PCA(n_components=2)\n",
        "PCA_X_train_2d = pca.fit_transform(x_train)\n",
        "\n",
        "PCA_X_test_2d = pca.fit_transform(x_test)"
      ],
      "metadata": {
        "id": "ns8kmW4oViJm"
      },
      "execution_count": null,
      "outputs": []
    },
    {
      "cell_type": "code",
      "source": [
        "plt.figure(figsize=(8, 6))\n",
        "plt.scatter(PCA_X_train_2d[:, 0], PCA_X_train_2d[:, 1], c = y_train, cmap = cmap)\n",
        "plt.xlabel('x')\n",
        "plt.ylabel('y')\n",
        "plt.title('PCA Visualization of Train Data')\n",
        "plt.show()"
      ],
      "metadata": {
        "id": "bwCfEcbMW14c",
        "colab": {
          "base_uri": "https://localhost:8080/",
          "height": 564
        },
        "outputId": "df9f85f7-1213-4ae7-aa74-d2d1782b3271"
      },
      "execution_count": null,
      "outputs": [
        {
          "output_type": "display_data",
          "data": {
            "text/plain": [
              "<Figure size 800x600 with 1 Axes>"
            ],
            "image/png": "[encoded data removed]"
          },
          "metadata": {}
        }
      ]
    },
    {
      "cell_type": "code",
      "source": [
        "plt.figure(figsize=(8, 6))\n",
        "plt.scatter(PCA_X_test_2d[:, 0], PCA_X_test_2d[:, 1], c = y_test, cmap = cmap)\n",
        "plt.xlabel('x')\n",
        "plt.ylabel('y')\n",
        "plt.title('PCA Visualization of Train Data')\n",
        "plt.show()"
      ],
      "metadata": {
        "colab": {
          "base_uri": "https://localhost:8080/",
          "height": 564
        },
        "id": "IuzlbS_hduDh",
        "outputId": "c4c797d5-0621-4012-be2d-4d4fbd1ea7eb"
      },
      "execution_count": null,
      "outputs": [
        {
          "output_type": "display_data",
          "data": {
            "text/plain": [
              "<Figure size 800x600 with 1 Axes>"
            ],
            "image/png": "[encoded data removed]"
          },
          "metadata": {}
        }
      ]
    },
    {
      "cell_type": "code",
      "source": [
        "PCA_X_train_2d.shape"
      ],
      "metadata": {
        "colab": {
          "base_uri": "https://localhost:8080/"
        },
        "id": "VMggMWCLViVO",
        "outputId": "9b7a94cf-87d4-46e1-9135-56d45aa72650"
      },
      "execution_count": null,
      "outputs": [
        {
          "output_type": "execute_result",
          "data": {
            "text/plain": [
              "(160, 2)"
            ]
          },
          "metadata": {},
          "execution_count": 21
        }
      ]
    },
    {
      "cell_type": "code",
      "source": [
        "PCA_X_test_2d.shape"
      ],
      "metadata": {
        "colab": {
          "base_uri": "https://localhost:8080/"
        },
        "id": "5EYO9ClSW55k",
        "outputId": "ed27fb2f-ce2e-4767-c3ce-d208480eae86"
      },
      "execution_count": null,
      "outputs": [
        {
          "output_type": "execute_result",
          "data": {
            "text/plain": [
              "(40, 2)"
            ]
          },
          "metadata": {},
          "execution_count": 25
        }
      ]
    },
    {
      "cell_type": "code",
      "source": [
        "type(y_test[0][0])"
      ],
      "metadata": {
        "colab": {
          "base_uri": "https://localhost:8080/"
        },
        "id": "1PBOR-21lDum",
        "outputId": "65281108-84e1-4d9a-ed7b-9412b5853362"
      },
      "execution_count": null,
      "outputs": [
        {
          "output_type": "execute_result",
          "data": {
            "text/plain": [
              "numpy.int64"
            ]
          },
          "metadata": {},
          "execution_count": 26
        }
      ]
    },
    {
      "cell_type": "code",
      "source": [
        "y_train.shape"
      ],
      "metadata": {
        "colab": {
          "base_uri": "https://localhost:8080/"
        },
        "id": "04UrtMbKXIuN",
        "outputId": "e0d3a670-a162-4a79-e3f5-1600fd814e29"
      },
      "execution_count": null,
      "outputs": [
        {
          "output_type": "execute_result",
          "data": {
            "text/plain": [
              "(160, 1)"
            ]
          },
          "metadata": {},
          "execution_count": 27
        }
      ]
    },
    {
      "cell_type": "code",
      "source": [
        "y_test.shape"
      ],
      "metadata": {
        "colab": {
          "base_uri": "https://localhost:8080/"
        },
        "id": "rnx2p-QYXK1b",
        "outputId": "60ac0739-4029-4126-c280-8b8664b93967"
      },
      "execution_count": null,
      "outputs": [
        {
          "output_type": "execute_result",
          "data": {
            "text/plain": [
              "(40, 1)"
            ]
          },
          "metadata": {},
          "execution_count": 28
        }
      ]
    },
    {
      "cell_type": "markdown",
      "source": [
        "### Define and train a simple DNN for anomaly detection (similar to HW 2)"
      ],
      "metadata": {
        "id": "ELSerNwYm3mt"
      }
    },
    {
      "cell_type": "code",
      "source": [
        "PCA_X_train_2d.shape[1:]"
      ],
      "metadata": {
        "colab": {
          "base_uri": "https://localhost:8080/"
        },
        "id": "eQn5TemJT7X5",
        "outputId": "f3fc6e74-eb9a-4d64-9d6c-7595076b7f13"
      },
      "execution_count": null,
      "outputs": [
        {
          "output_type": "execute_result",
          "data": {
            "text/plain": [
              "(2,)"
            ]
          },
          "metadata": {},
          "execution_count": 29
        }
      ]
    },
    {
      "cell_type": "code",
      "source": [
        "num_classes = 2\n",
        "\n",
        "model = models.Sequential([\n",
        "    layers.Dense(20, activation='relu', input_shape = PCA_X_train_2d.shape[1:]),\n",
        "    layers.Dense(10, activation='relu'),\n",
        "    layers.Dense(num_classes, activation='softmax')\n",
        "])\n"
      ],
      "metadata": {
        "id": "ZyChgL4-mvne"
      },
      "execution_count": null,
      "outputs": []
    },
    {
      "cell_type": "code",
      "source": [
        "model.compile(\n",
        "    optimizer='adam',\n",
        "    loss='sparse_categorical_crossentropy',\n",
        "    metrics=['accuracy']\n",
        ")\n",
        "\n",
        "model.summary()"
      ],
      "metadata": {
        "colab": {
          "base_uri": "https://localhost:8080/"
        },
        "id": "T7zoJPU1mvpe",
        "outputId": "d257257a-f935-4c3f-d47e-0a9eeb112dc5"
      },
      "execution_count": null,
      "outputs": [
        {
          "output_type": "stream",
          "name": "stdout",
          "text": [
            "Model: \"sequential\"\n",
            "_________________________________________________________________\n",
            " Layer (type)                Output Shape              Param #   \n",
            "=================================================================\n",
            " dense (Dense)               (None, 20)                60        \n",
            "                                                                 \n",
            " dense_1 (Dense)             (None, 10)                210       \n",
            "                                                                 \n",
            " dense_2 (Dense)             (None, 2)                 22        \n",
            "                                                                 \n",
            "=================================================================\n",
            "Total params: 292 (1.14 KB)\n",
            "Trainable params: 292 (1.14 KB)\n",
            "Non-trainable params: 0 (0.00 Byte)\n",
            "_________________________________________________________________\n"
          ]
        }
      ]
    },
    {
      "cell_type": "code",
      "source": [
        "history = model.fit(\n",
        "    PCA_X_train_2d, y_train,\n",
        "    validation_data=(PCA_X_test_2d, y_test),\n",
        "    epochs=50,\n",
        "    batch_size=batch_size\n",
        ")\n"
      ],
      "metadata": {
        "colab": {
          "base_uri": "https://localhost:8080/"
        },
        "id": "ysqFbL-nmvrY",
        "outputId": "ca584641-01a0-419b-e179-04a6e551fa62"
      },
      "execution_count": null,
      "outputs": [
        {
          "output_type": "stream",
          "name": "stdout",
          "text": [
            "Epoch 1/50\n",
            "5/5 [==============================] - 2s 59ms/step - loss: 3.3634 - accuracy: 0.2062 - val_loss: 2.9318 - val_accuracy: 0.1500\n",
            "Epoch 2/50\n",
            "5/5 [==============================] - 0s 9ms/step - loss: 2.5967 - accuracy: 0.2188 - val_loss: 2.1659 - val_accuracy: 0.2250\n",
            "Epoch 3/50\n",
            "5/5 [==============================] - 0s 9ms/step - loss: 1.9440 - accuracy: 0.3438 - val_loss: 1.5786 - val_accuracy: 0.4250\n",
            "Epoch 4/50\n",
            "5/5 [==============================] - 0s 8ms/step - loss: 1.4462 - accuracy: 0.5188 - val_loss: 1.1243 - val_accuracy: 0.4250\n",
            "Epoch 5/50\n",
            "5/5 [==============================] - 0s 9ms/step - loss: 0.9906 - accuracy: 0.5312 - val_loss: 0.7658 - val_accuracy: 0.5750\n",
            "Epoch 6/50\n",
            "5/5 [==============================] - 0s 9ms/step - loss: 0.6600 - accuracy: 0.6250 - val_loss: 0.5077 - val_accuracy: 0.8000\n",
            "Epoch 7/50\n",
            "5/5 [==============================] - 0s 9ms/step - loss: 0.4569 - accuracy: 0.8938 - val_loss: 0.3594 - val_accuracy: 0.9500\n",
            "Epoch 8/50\n",
            "5/5 [==============================] - 0s 9ms/step - loss: 0.3610 - accuracy: 0.9187 - val_loss: 0.2848 - val_accuracy: 0.9500\n",
            "Epoch 9/50\n",
            "5/5 [==============================] - 0s 9ms/step - loss: 0.3143 - accuracy: 0.9125 - val_loss: 0.2485 - val_accuracy: 0.9500\n",
            "Epoch 10/50\n",
            "5/5 [==============================] - 0s 9ms/step - loss: 0.2915 - accuracy: 0.9125 - val_loss: 0.2284 - val_accuracy: 0.9500\n",
            "Epoch 11/50\n",
            "5/5 [==============================] - 0s 9ms/step - loss: 0.2767 - accuracy: 0.9187 - val_loss: 0.2150 - val_accuracy: 0.9500\n",
            "Epoch 12/50\n",
            "5/5 [==============================] - 0s 9ms/step - loss: 0.2658 - accuracy: 0.9250 - val_loss: 0.2052 - val_accuracy: 0.9500\n",
            "Epoch 13/50\n",
            "5/5 [==============================] - 0s 9ms/step - loss: 0.2548 - accuracy: 0.9250 - val_loss: 0.2000 - val_accuracy: 0.9500\n",
            "Epoch 14/50\n",
            "5/5 [==============================] - 0s 9ms/step - loss: 0.2475 - accuracy: 0.9250 - val_loss: 0.1945 - val_accuracy: 0.9500\n",
            "Epoch 15/50\n",
            "5/5 [==============================] - 0s 9ms/step - loss: 0.2392 - accuracy: 0.9250 - val_loss: 0.1921 - val_accuracy: 0.9500\n",
            "Epoch 16/50\n",
            "5/5 [==============================] - 0s 9ms/step - loss: 0.2325 - accuracy: 0.9250 - val_loss: 0.1894 - val_accuracy: 0.9500\n",
            "Epoch 17/50\n",
            "5/5 [==============================] - 0s 9ms/step - loss: 0.2259 - accuracy: 0.9250 - val_loss: 0.1875 - val_accuracy: 0.9500\n",
            "Epoch 18/50\n",
            "5/5 [==============================] - 0s 9ms/step - loss: 0.2211 - accuracy: 0.9250 - val_loss: 0.1847 - val_accuracy: 0.9500\n",
            "Epoch 19/50\n",
            "5/5 [==============================] - 0s 9ms/step - loss: 0.2154 - accuracy: 0.9250 - val_loss: 0.1831 - val_accuracy: 0.9500\n",
            "Epoch 20/50\n",
            "5/5 [==============================] - 0s 9ms/step - loss: 0.2116 - accuracy: 0.9250 - val_loss: 0.1813 - val_accuracy: 0.9500\n",
            "Epoch 21/50\n",
            "5/5 [==============================] - 0s 9ms/step - loss: 0.2065 - accuracy: 0.9250 - val_loss: 0.1809 - val_accuracy: 0.9500\n",
            "Epoch 22/50\n",
            "5/5 [==============================] - 0s 9ms/step - loss: 0.2041 - accuracy: 0.9250 - val_loss: 0.1819 - val_accuracy: 0.9500\n",
            "Epoch 23/50\n",
            "5/5 [==============================] - 0s 9ms/step - loss: 0.1997 - accuracy: 0.9250 - val_loss: 0.1787 - val_accuracy: 0.9500\n",
            "Epoch 24/50\n",
            "5/5 [==============================] - 0s 9ms/step - loss: 0.1965 - accuracy: 0.9250 - val_loss: 0.1768 - val_accuracy: 0.9500\n",
            "Epoch 25/50\n",
            "5/5 [==============================] - 0s 9ms/step - loss: 0.1926 - accuracy: 0.9250 - val_loss: 0.1762 - val_accuracy: 0.9500\n",
            "Epoch 26/50\n",
            "5/5 [==============================] - 0s 9ms/step - loss: 0.1895 - accuracy: 0.9250 - val_loss: 0.1765 - val_accuracy: 0.9500\n",
            "Epoch 27/50\n",
            "5/5 [==============================] - 0s 9ms/step - loss: 0.1873 - accuracy: 0.9250 - val_loss: 0.1779 - val_accuracy: 0.9500\n",
            "Epoch 28/50\n",
            "5/5 [==============================] - 0s 9ms/step - loss: 0.1847 - accuracy: 0.9250 - val_loss: 0.1759 - val_accuracy: 0.9500\n",
            "Epoch 29/50\n",
            "5/5 [==============================] - 0s 9ms/step - loss: 0.1815 - accuracy: 0.9250 - val_loss: 0.1756 - val_accuracy: 0.9500\n",
            "Epoch 30/50\n",
            "5/5 [==============================] - 0s 9ms/step - loss: 0.1793 - accuracy: 0.9250 - val_loss: 0.1754 - val_accuracy: 0.9500\n",
            "Epoch 31/50\n",
            "5/5 [==============================] - 0s 9ms/step - loss: 0.1773 - accuracy: 0.9250 - val_loss: 0.1748 - val_accuracy: 0.9500\n",
            "Epoch 32/50\n",
            "5/5 [==============================] - 0s 9ms/step - loss: 0.1752 - accuracy: 0.9250 - val_loss: 0.1733 - val_accuracy: 0.9500\n",
            "Epoch 33/50\n",
            "5/5 [==============================] - 0s 9ms/step - loss: 0.1735 - accuracy: 0.9250 - val_loss: 0.1729 - val_accuracy: 0.9500\n",
            "Epoch 34/50\n",
            "5/5 [==============================] - 0s 9ms/step - loss: 0.1713 - accuracy: 0.9312 - val_loss: 0.1731 - val_accuracy: 0.9500\n",
            "Epoch 35/50\n",
            "5/5 [==============================] - 0s 9ms/step - loss: 0.1702 - accuracy: 0.9312 - val_loss: 0.1744 - val_accuracy: 0.9500\n",
            "Epoch 36/50\n",
            "5/5 [==============================] - 0s 9ms/step - loss: 0.1689 - accuracy: 0.9312 - val_loss: 0.1756 - val_accuracy: 0.9500\n",
            "Epoch 37/50\n",
            "5/5 [==============================] - 0s 9ms/step - loss: 0.1665 - accuracy: 0.9312 - val_loss: 0.1748 - val_accuracy: 0.9500\n",
            "Epoch 38/50\n",
            "5/5 [==============================] - 0s 9ms/step - loss: 0.1663 - accuracy: 0.9312 - val_loss: 0.1718 - val_accuracy: 0.9500\n",
            "Epoch 39/50\n",
            "5/5 [==============================] - 0s 9ms/step - loss: 0.1638 - accuracy: 0.9312 - val_loss: 0.1719 - val_accuracy: 0.9500\n",
            "Epoch 40/50\n",
            "5/5 [==============================] - 0s 9ms/step - loss: 0.1625 - accuracy: 0.9312 - val_loss: 0.1722 - val_accuracy: 0.9500\n",
            "Epoch 41/50\n",
            "5/5 [==============================] - 0s 9ms/step - loss: 0.1608 - accuracy: 0.9312 - val_loss: 0.1737 - val_accuracy: 0.9500\n",
            "Epoch 42/50\n",
            "5/5 [==============================] - 0s 9ms/step - loss: 0.1614 - accuracy: 0.9312 - val_loss: 0.1761 - val_accuracy: 0.9500\n",
            "Epoch 43/50\n",
            "5/5 [==============================] - 0s 9ms/step - loss: 0.1596 - accuracy: 0.9375 - val_loss: 0.1734 - val_accuracy: 0.9500\n",
            "Epoch 44/50\n",
            "5/5 [==============================] - 0s 9ms/step - loss: 0.1572 - accuracy: 0.9312 - val_loss: 0.1728 - val_accuracy: 0.9500\n",
            "Epoch 45/50\n",
            "5/5 [==============================] - 0s 9ms/step - loss: 0.1566 - accuracy: 0.9250 - val_loss: 0.1732 - val_accuracy: 0.9500\n",
            "Epoch 46/50\n",
            "5/5 [==============================] - 0s 9ms/step - loss: 0.1570 - accuracy: 0.9312 - val_loss: 0.1746 - val_accuracy: 0.9500\n",
            "Epoch 47/50\n",
            "5/5 [==============================] - 0s 9ms/step - loss: 0.1550 - accuracy: 0.9375 - val_loss: 0.1723 - val_accuracy: 0.9500\n",
            "Epoch 48/50\n",
            "5/5 [==============================] - 0s 9ms/step - loss: 0.1538 - accuracy: 0.9500 - val_loss: 0.1730 - val_accuracy: 0.9500\n",
            "Epoch 49/50\n",
            "5/5 [==============================] - 0s 9ms/step - loss: 0.1527 - accuracy: 0.9438 - val_loss: 0.1737 - val_accuracy: 0.9500\n",
            "Epoch 50/50\n",
            "5/5 [==============================] - 0s 9ms/step - loss: 0.1520 - accuracy: 0.9438 - val_loss: 0.1747 - val_accuracy: 0.9500\n"
          ]
        }
      ]
    },
    {
      "cell_type": "markdown",
      "source": [
        "### Evaluate accuracy using classification report and confusion matrix"
      ],
      "metadata": {
        "id": "XOmB1gdftsu9"
      }
    },
    {
      "cell_type": "code",
      "source": [
        "loss, accuracy = model.evaluate(PCA_X_test_2d, y_test)\n",
        "print(f'Test accuracy: {accuracy:.2f}')"
      ],
      "metadata": {
        "colab": {
          "base_uri": "https://localhost:8080/"
        },
        "id": "dieyMl3Fnwbt",
        "outputId": "24474a29-fcac-4663-c6ee-16fe19602b8d"
      },
      "execution_count": null,
      "outputs": [
        {
          "output_type": "stream",
          "name": "stdout",
          "text": [
            "2/2 [==============================] - 0s 6ms/step - loss: 0.1747 - accuracy: 0.9500\n",
            "Test accuracy: 0.95\n"
          ]
        }
      ]
    },
    {
      "cell_type": "code",
      "source": [
        "y_pred = np.argmax(model.predict(PCA_X_test_2d), axis=1)\n",
        "\n",
        "print(\"Classification Report:\")\n",
        "print(classification_report(y_test, y_pred))\n",
        "\n",
        "print(\"Confusion Matrix:\")\n",
        "print(confusion_matrix(y_test, y_pred))"
      ],
      "metadata": {
        "colab": {
          "base_uri": "https://localhost:8080/"
        },
        "id": "hbk-K5hrnwd7",
        "outputId": "bfbd08dc-e80d-434d-99aa-cb5752cbe3bb"
      },
      "execution_count": null,
      "outputs": [
        {
          "output_type": "stream",
          "name": "stdout",
          "text": [
            "2/2 [==============================] - 0s 3ms/step\n",
            "Classification Report:\n",
            "              precision    recall  f1-score   support\n",
            "\n",
            "           0       0.94      0.94      0.94        16\n",
            "           1       0.96      0.96      0.96        24\n",
            "\n",
            "    accuracy                           0.95        40\n",
            "   macro avg       0.95      0.95      0.95        40\n",
            "weighted avg       0.95      0.95      0.95        40\n",
            "\n",
            "Confusion Matrix:\n",
            "[[15  1]\n",
            " [ 1 23]]\n"
          ]
        }
      ]
    },
    {
      "cell_type": "code",
      "source": [
        "model.save('base_trigger_model.h5')"
      ],
      "metadata": {
        "id": "wZBcpYU7nwgS",
        "colab": {
          "base_uri": "https://localhost:8080/"
        },
        "outputId": "3028232d-e8c1-41b4-dd0b-400228599133"
      },
      "execution_count": null,
      "outputs": [
        {
          "output_type": "stream",
          "name": "stderr",
          "text": [
            "/usr/local/lib/python3.10/dist-packages/keras/src/engine/training.py:3103: UserWarning: You are saving your model as an HDF5 file via `model.save()`. This file format is considered legacy. We recommend using instead the native Keras format, e.g. `model.save('my_model.keras')`.\n",
            "  saving_api.save_model(\n"
          ]
        }
      ]
    },
    {
      "cell_type": "markdown",
      "source": [
        "### Implementing Dynamic Range Quantization to run on Arduino"
      ],
      "metadata": {
        "id": "T1Ke5fpoqNq9"
      }
    },
    {
      "cell_type": "markdown",
      "source": [
        "#### Same method as HW 2"
      ],
      "metadata": {
        "id": "GXuQVAhcqvTG"
      }
    },
    {
      "cell_type": "code",
      "source": [
        "base_model = tf.keras.models.load_model('base_trigger_model.h5')\n",
        "\n",
        "converter = tf.lite.TFLiteConverter.from_keras_model(base_model)\n",
        "converter.optimizations = [tf.lite.Optimize.DEFAULT]\n",
        "tflite_quant_model = converter.convert()"
      ],
      "metadata": {
        "id": "C4PrRhfEqG6Q"
      },
      "execution_count": null,
      "outputs": []
    },
    {
      "cell_type": "code",
      "source": [
        "# Save the quantized model\n",
        "with open('quantized_model.tflite', 'wb') as f:\n",
        "    f.write(tflite_quant_model)\n",
        "\n",
        "# Get the file sizes\n",
        "original_model_size = os.path.getsize('base_trigger_model.h5')\n",
        "quantized_model_size = os.path.getsize('quantized_model.tflite')\n",
        "\n",
        "# Print the model sizes\n",
        "print(f\"Original model size: {original_model_size / 1024:.2f} KB\")\n",
        "print(f\"Quantized model size: {quantized_model_size / 1024:.2f} KB\")"
      ],
      "metadata": {
        "colab": {
          "base_uri": "https://localhost:8080/"
        },
        "id": "5Il3oQI_qG8d",
        "outputId": "f8e1dac7-41f9-4f8a-a047-7c7532a0d172"
      },
      "execution_count": null,
      "outputs": [
        {
          "output_type": "stream",
          "name": "stdout",
          "text": [
            "Original model size: 33.44 KB\n",
            "Quantized model size: 3.19 KB\n"
          ]
        }
      ]
    },
    {
      "cell_type": "markdown",
      "source": [
        "### Evaluate quantized model accuracy using classification report and confusion matrix"
      ],
      "metadata": {
        "id": "h08qLrmit1m-"
      }
    },
    {
      "cell_type": "code",
      "source": [
        "interpreter = tf.lite.Interpreter(model_path=\"quantized_model.tflite\")\n",
        "interpreter.allocate_tensors()\n",
        "\n",
        "input_details = interpreter.get_input_details()\n",
        "output_details = interpreter.get_output_details()\n",
        "\n",
        "def predict_tflite(input_data):\n",
        "    input_data = np.expand_dims(input_data, axis=0).astype(np.float32)\n",
        "    interpreter.set_tensor(input_details[0]['index'], input_data)\n",
        "    interpreter.invoke()\n",
        "    output_data = interpreter.get_tensor(output_details[0]['index'])\n",
        "    return output_data\n",
        "\n",
        "y_pred_quant = []\n",
        "for data in PCA_X_test_2d:\n",
        "    pred = predict_tflite(data)\n",
        "    y_pred_quant.append(np.argmax(pred))\n",
        "\n",
        "print(classification_report(y_test, y_pred_quant))\n",
        "print(\"Confusion Matrix:\")\n",
        "print(confusion_matrix(y_test, y_pred_quant))"
      ],
      "metadata": {
        "colab": {
          "base_uri": "https://localhost:8080/"
        },
        "id": "DDbFv7J5qG-v",
        "outputId": "5ff44214-9002-4e7b-b47c-f5fff9ec7a33"
      },
      "execution_count": null,
      "outputs": [
        {
          "output_type": "stream",
          "name": "stdout",
          "text": [
            "              precision    recall  f1-score   support\n",
            "\n",
            "           0       0.94      0.94      0.94        16\n",
            "           1       0.96      0.96      0.96        24\n",
            "\n",
            "    accuracy                           0.95        40\n",
            "   macro avg       0.95      0.95      0.95        40\n",
            "weighted avg       0.95      0.95      0.95        40\n",
            "\n",
            "Confusion Matrix:\n",
            "[[15  1]\n",
            " [ 1 23]]\n"
          ]
        }
      ]
    },
    {
      "cell_type": "code",
      "source": [],
      "metadata": {
        "id": "c0JwyBFZqHAv"
      },
      "execution_count": null,
      "outputs": []
    },
    {
      "cell_type": "markdown",
      "source": [
        "## Convert quantized model to C and create the header file\n",
        "#### (Same method as HW 2)"
      ],
      "metadata": {
        "id": "HakZJtvTt84g"
      }
    },
    {
      "cell_type": "code",
      "source": [
        "# c_writer is a py file in the same folder and has been imported at the beginning of the notebook\n",
        "# Reference : https://github.com/ShawnHymel/tinyml-example-anomaly-detection/blob/master/utils/c_writer.py\n",
        "# We use #04x to pad the output to 2 digits with a 0x prefix\n",
        "hex_array = [format(val, '#04x') for val in tflite_quant_model]\n",
        "# Calling function to convert an array into a C string (requires Numpy)\n",
        "# create_array(np_array, var_type, var_name, line_limit=80, indent=4)\n",
        "c_model = c_writer.create_array(np.array(hex_array), 'unsigned char', \"network_model\")\n",
        "# Calling Function to create a header file with given C code as a string\n",
        "header_str = c_writer.create_header(c_model, \"network_model\")"
      ],
      "metadata": {
        "id": "pEP6fHoaqHCb"
      },
      "execution_count": null,
      "outputs": []
    },
    {
      "cell_type": "code",
      "source": [
        "#Writing to the header file\n",
        "with open('network_model.h', 'w') as file:\n",
        "    file.write(header_str)"
      ],
      "metadata": {
        "id": "wj02hjU0uEhl"
      },
      "execution_count": null,
      "outputs": []
    },
    {
      "cell_type": "markdown",
      "source": [
        "### Generate sample Shapley heat maps to run on Arduino"
      ],
      "metadata": {
        "id": "00iP8q6huGQY"
      }
    },
    {
      "cell_type": "code",
      "source": [
        "type(x_test[0,0])"
      ],
      "metadata": {
        "colab": {
          "base_uri": "https://localhost:8080/"
        },
        "id": "uNg3nGam7B6I",
        "outputId": "ec7057c9-65a3-4f7e-ace7-e2d620eae3a9"
      },
      "execution_count": null,
      "outputs": [
        {
          "output_type": "execute_result",
          "data": {
            "text/plain": [
              "numpy.float64"
            ]
          },
          "metadata": {},
          "execution_count": 122
        }
      ]
    },
    {
      "cell_type": "code",
      "source": [
        "x_test.shape"
      ],
      "metadata": {
        "colab": {
          "base_uri": "https://localhost:8080/"
        },
        "id": "ISygmkTspuvE",
        "outputId": "868988bd-727e-4eef-be4e-728911cadfc7"
      },
      "execution_count": null,
      "outputs": [
        {
          "output_type": "execute_result",
          "data": {
            "text/plain": [
              "(40, 50)"
            ]
          },
          "metadata": {},
          "execution_count": 127
        }
      ]
    },
    {
      "cell_type": "code",
      "source": [
        "y_test.shape"
      ],
      "metadata": {
        "colab": {
          "base_uri": "https://localhost:8080/"
        },
        "id": "G0allL4Op6PR",
        "outputId": "201b041a-e8dd-47ba-c6ec-616b5b2eead1"
      },
      "execution_count": null,
      "outputs": [
        {
          "output_type": "execute_result",
          "data": {
            "text/plain": [
              "(40, 1)"
            ]
          },
          "metadata": {},
          "execution_count": 131
        }
      ]
    },
    {
      "cell_type": "code",
      "source": [
        "# Converting a sample piece of the X test and y test data to C (for the purpose of ino code (arduino) to load and test\n",
        "# the sample and compare\n",
        "\n",
        "Xtest = PCA_X_test_2d[0:40,:]\n",
        "print(c_writer.create_array(Xtest,\"float\",\"X_test\"))"
      ],
      "metadata": {
        "colab": {
          "base_uri": "https://localhost:8080/"
        },
        "id": "ijOTyYgcuEj7",
        "outputId": "36ff367f-10da-4617-b2c3-cefbae297639"
      },
      "execution_count": null,
      "outputs": [
        {
          "output_type": "stream",
          "name": "stdout",
          "text": [
            "const unsigned int X_test_dim1 = 40;\n",
            "const unsigned int X_test_dim2 = 2;\n",
            "\n",
            "const float X_test[40][2] = {\n",
            "    -4.955228546128512, -1.0907715856529432, -20.440108923882583, \n",
            "    -1.9957716106741101, -4.9323076001491595, 8.426665643178348, \n",
            "    -21.11894200922196, -2.719574275875209, 51.020075722841604, \n",
            "    -7.09297055843539, -3.47329447678659, -3.1760334007639144, \n",
            "    -14.411442699367562, -2.358050565647164, 2.3547520942415425, \n",
            "    9.265458488157034, -12.395531290103705, -1.8574670985079802, \n",
            "    -27.91850690787095, -1.2585040122776825, 37.25761294073588, \n",
            "    0.8223521178776451, -18.822484616532957, -2.1879644390903983, \n",
            "    -26.939319242097444, -1.2319654153574593, -27.848247241155736, \n",
            "    -1.567937386910336, -28.433438861976576, -1.7277955508335339, \n",
            "    43.99200498682703, -2.8746152456862837, 35.2844392260505, \n",
            "    -0.878729349434378, -21.129275799778394, -1.481993850613591, \n",
            "    -20.280699812292735, -1.865196982383144, 30.590517681003856, \n",
            "    1.9278573040794207, -26.983349902483887, -1.3631112480656056, \n",
            "    44.07501705106174, -5.35255310440244, -10.877734774035046, \n",
            "    -2.4806562839624386, -6.743901767256732, -3.213675401100972, \n",
            "    -22.64973077770228, -2.232137360512732, 44.42927319431864, \n",
            "    -3.301637879830898, -21.638230635694782, -1.5897449463485627, \n",
            "    -6.196698131843147, 8.960932072898844, -6.360070801097373, \n",
            "    -1.632326558411354, 1.699486101583469, 12.151601842601375, \n",
            "    13.368332261792252, 15.295260668366097, 23.45891787490427, \n",
            "    -0.5126897289041684, -15.08139646959049, -2.6099295856731404, \n",
            "    -13.294223658075666, -3.2738866451873876, 35.52752132522992, \n",
            "    4.263550532381059, -25.00471825020139, -1.690223673567322, \n",
            "    67.30313498311907, -5.210670370484738, -8.86178923356204, \n",
            "    -2.066440251611672, 6.135138961598448, 12.338737296262424, \n",
            "    -19.70555197642056, -1.5573915995952812\n",
            "};\n",
            "\n"
          ]
        }
      ]
    },
    {
      "cell_type": "code",
      "source": [
        "ytest = y_test[0:40]\n",
        "print(c_writer.create_array(ytest,\"uint8_t\",\"y_test\"))"
      ],
      "metadata": {
        "colab": {
          "base_uri": "https://localhost:8080/"
        },
        "id": "hwAj7b3OuEmY",
        "outputId": "904d3e19-591a-428c-c8d3-b90f147e71ae"
      },
      "execution_count": null,
      "outputs": [
        {
          "output_type": "stream",
          "name": "stdout",
          "text": [
            "const unsigned int y_test_dim1 = 40;\n",
            "const unsigned int y_test_dim2 = 1;\n",
            "\n",
            "const uint8_t y_test[40][1] = {\n",
            "    0, 1, 0, 1, 0, 1, 1, 0, 1, 1, 0, 1, 1, 1, 1, 0, 0, 1, 1, 0, 1, 0, 1, 1, 1, \n",
            "    0, 1, 0, 1, 0, 0, 0, 1, 1, 0, 1, 1, 1, 0, 1\n",
            "};\n",
            "\n"
          ]
        }
      ]
    },
    {
      "cell_type": "code",
      "source": [],
      "metadata": {
        "id": "8E9wOrk3zVBi"
      },
      "execution_count": null,
      "outputs": []
    }
  ]
}